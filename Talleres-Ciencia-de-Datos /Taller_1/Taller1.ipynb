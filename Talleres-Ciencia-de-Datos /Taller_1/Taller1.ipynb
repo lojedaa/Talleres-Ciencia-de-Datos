{
  "cells": [
    {
      "cell_type": "markdown",
      "id": "65642d56-c596-4f2b-9bb1-90e2c403b899",
      "metadata": {
        "id": "65642d56-c596-4f2b-9bb1-90e2c403b899"
      },
      "source": [
        "<a href=\"https://colab.research.google.com/github/datascience-uniandes/data-analysis-tutorial/blob/master/airbnb/eda.ipynb\" target=\"_parent\"><img src=\"https://colab.research.google.com/assets/colab-badge.svg\" alt=\"Open In Colab\"/></a>"
      ]
    },
    {
      "cell_type": "markdown",
      "id": "5ed0788a-edef-4304-a544-c35aed7bb02c",
      "metadata": {
        "id": "5ed0788a-edef-4304-a544-c35aed7bb02c"
      },
      "source": [
        "# Taller 1\n",
        "\n",
        "MINE-4101: Applied Data Science  \n",
        "Univerisdad de los Andes  \n",
        "  \n",
        "**Dataset:** Hotel bookings [[dataset](https://drive.google.com/file/d/1VA3XyONx5mFEzx1YN_ZsPAkEMWXuRBqI/view?usp=sharing) | [dictionary](https://docs.google.com/spreadsheets/d/1p-lHMlXSUAYdP19odh3AqqkowHRWfWSHWXCURqMOmCc/edit?usp=sharing)].\n",
        "\n",
        "\n",
        "Última actuaización: Septiembre, 2025"
      ]
    },
    {
      "cell_type": "code",
      "execution_count": null,
      "id": "fa878881-66df-4d8e-b792-1d65470a8dc5",
      "metadata": {
        "id": "fa878881-66df-4d8e-b792-1d65470a8dc5"
      },
      "outputs": [],
      "source": [
        "import pandas as pd\n",
        "\n",
        "import matplotlib.pyplot as plt\n",
        "import seaborn as sns"
      ]
    },
    {
      "cell_type": "code",
      "execution_count": null,
      "id": "934e72ec-a2c1-45ec-a6fc-a4acb80950d8",
      "metadata": {
        "id": "934e72ec-a2c1-45ec-a6fc-a4acb80950d8"
      },
      "outputs": [],
      "source": [
        "# Pandas configuration for extending the number of columns and rows to show\n",
        "pd.set_option(\"display.max_columns\", None)\n",
        "pd.set_option(\"display.max_rows\", 100)"
      ]
    },
    {
      "cell_type": "markdown",
      "id": "8877beda-27b4-4c17-9d6b-6328db41ac08",
      "metadata": {
        "id": "8877beda-27b4-4c17-9d6b-6328db41ac08"
      },
      "source": [
        "### 1. Entendimiento inicial de datos"
      ]
    },
    {
      "cell_type": "code",
      "execution_count": null,
      "id": "7840e83b-2f32-438f-a8d2-20ef259cf3ac",
      "metadata": {
        "id": "7840e83b-2f32-438f-a8d2-20ef259cf3ac"
      },
      "outputs": [],
      "source": [
        "hotel_file_url = 'https://raw.githubusercontent.com/lojedaa/Talleres-Ciencia-de-Datos/refs/heads/main/Taller_1/hotel_bookings_modified.csv'\n",
        "hotel_dict_url = 'https://raw.githubusercontent.com/lojedaa/Talleres-Ciencia-de-Datos/refs/heads/main/Taller_1/hotel_dictionary.csv'\n",
        "\n",
        "hotel_df = pd.read_csv(hotel_file_url, low_memory=False)\n",
        "hotel_dict = pd.read_csv(hotel_dict_url, sep=',', header=0)"
      ]
    },
    {
      "cell_type": "code",
      "source": [
        "# Crear diccionario de tipos\n",
        "varType = dict(zip(hotel_dict['Field'], hotel_dict['Type']))\n",
        "\n",
        "# Función para convertir tipos\n",
        "def Type_convert(var_type):\n",
        "    if var_type == 'integer':\n",
        "        return 'Int64'\n",
        "    elif var_type == 'numeric':\n",
        "        return 'float'\n",
        "    elif var_type == 'text':\n",
        "        return 'string'\n",
        "    elif var_type == 'boolean':\n",
        "        return 'boolean'\n",
        "    elif var_type == 'date':\n",
        "        return 'datetime64[ns]'\n",
        "    else:\n",
        "        return None  # tipo desconocido"
      ],
      "metadata": {
        "id": "utVQuvsM7ijB"
      },
      "id": "utVQuvsM7ijB",
      "execution_count": null,
      "outputs": []
    },
    {
      "cell_type": "code",
      "source": [
        "# Aplicar conversión de tipos\n",
        "for col, tipo in varType.items():\n",
        "    tipo_convertido = Type_convert(tipo)\n",
        "    if tipo_convertido == 'datetime64[ns]':\n",
        "        hotel_df[col] = pd.to_datetime(hotel_df[col], errors='coerce')\n",
        "    elif tipo_convertido == 'Int64':\n",
        "        hotel_df[col] = pd.to_numeric(hotel_df[col], errors='coerce').astype('Int64')\n",
        "    elif tipo_convertido:\n",
        "        hotel_df[col] = hotel_df[col].astype(tipo_convertido)\n",
        "\n"
      ],
      "metadata": {
        "id": "6pu38o5n_6RZ"
      },
      "id": "6pu38o5n_6RZ",
      "execution_count": null,
      "outputs": []
    },
    {
      "cell_type": "code",
      "execution_count": null,
      "id": "7fdc067c-1aff-4859-b40e-183cc292dfcd",
      "metadata": {
        "id": "7fdc067c-1aff-4859-b40e-183cc292dfcd"
      },
      "outputs": [],
      "source": [
        "# Showing dataframe dimensions\n",
        "hotel_df.shape"
      ]
    },
    {
      "cell_type": "code",
      "execution_count": null,
      "id": "666da89f-03fa-434d-a366-7fc2e399a731",
      "metadata": {
        "id": "666da89f-03fa-434d-a366-7fc2e399a731",
        "colab": {
          "base_uri": "https://localhost:8080/",
          "height": 1000
        },
        "outputId": "95048646-24c7-4745-aac8-bb5e94b4c516"
      },
      "outputs": [
        {
          "output_type": "execute_result",
          "data": {
            "text/plain": [
              "hotel                             string[python]\n",
              "is_canceled                              boolean\n",
              "lead_time                                  Int64\n",
              "arrival_date_year                          Int64\n",
              "arrival_date_month                string[python]\n",
              "arrival_date_week_number                   Int64\n",
              "arrival_date_day_of_month                  Int64\n",
              "stays_in_weekend_nights                    Int64\n",
              "stays_in_week_nights                       Int64\n",
              "adults                                     Int64\n",
              "children                                   Int64\n",
              "babies                                     Int64\n",
              "meal                              string[python]\n",
              "country                           string[python]\n",
              "market_segment                    string[python]\n",
              "distribution_channel              string[python]\n",
              "is_repeated_guest                        boolean\n",
              "previous_cancellations                     Int64\n",
              "previous_bookings_not_canceled             Int64\n",
              "reserved_room_type                string[python]\n",
              "assigned_room_type                string[python]\n",
              "booking_changes                            Int64\n",
              "deposit_type                      string[python]\n",
              "agent                                      Int64\n",
              "company                                    Int64\n",
              "days_in_waiting_list                       Int64\n",
              "customer_type                     string[python]\n",
              "adr                                      float64\n",
              "required_car_parking_spaces                Int64\n",
              "total_of_special_requests                  Int64\n",
              "reservation_status                string[python]\n",
              "reservation_status_date           datetime64[ns]\n",
              "kids                                     float64\n",
              "dtype: object"
            ],
            "text/html": [
              "<div>\n",
              "<style scoped>\n",
              "    .dataframe tbody tr th:only-of-type {\n",
              "        vertical-align: middle;\n",
              "    }\n",
              "\n",
              "    .dataframe tbody tr th {\n",
              "        vertical-align: top;\n",
              "    }\n",
              "\n",
              "    .dataframe thead th {\n",
              "        text-align: right;\n",
              "    }\n",
              "</style>\n",
              "<table border=\"1\" class=\"dataframe\">\n",
              "  <thead>\n",
              "    <tr style=\"text-align: right;\">\n",
              "      <th></th>\n",
              "      <th>0</th>\n",
              "    </tr>\n",
              "  </thead>\n",
              "  <tbody>\n",
              "    <tr>\n",
              "      <th>hotel</th>\n",
              "      <td>string[python]</td>\n",
              "    </tr>\n",
              "    <tr>\n",
              "      <th>is_canceled</th>\n",
              "      <td>boolean</td>\n",
              "    </tr>\n",
              "    <tr>\n",
              "      <th>lead_time</th>\n",
              "      <td>Int64</td>\n",
              "    </tr>\n",
              "    <tr>\n",
              "      <th>arrival_date_year</th>\n",
              "      <td>Int64</td>\n",
              "    </tr>\n",
              "    <tr>\n",
              "      <th>arrival_date_month</th>\n",
              "      <td>string[python]</td>\n",
              "    </tr>\n",
              "    <tr>\n",
              "      <th>arrival_date_week_number</th>\n",
              "      <td>Int64</td>\n",
              "    </tr>\n",
              "    <tr>\n",
              "      <th>arrival_date_day_of_month</th>\n",
              "      <td>Int64</td>\n",
              "    </tr>\n",
              "    <tr>\n",
              "      <th>stays_in_weekend_nights</th>\n",
              "      <td>Int64</td>\n",
              "    </tr>\n",
              "    <tr>\n",
              "      <th>stays_in_week_nights</th>\n",
              "      <td>Int64</td>\n",
              "    </tr>\n",
              "    <tr>\n",
              "      <th>adults</th>\n",
              "      <td>Int64</td>\n",
              "    </tr>\n",
              "    <tr>\n",
              "      <th>children</th>\n",
              "      <td>Int64</td>\n",
              "    </tr>\n",
              "    <tr>\n",
              "      <th>babies</th>\n",
              "      <td>Int64</td>\n",
              "    </tr>\n",
              "    <tr>\n",
              "      <th>meal</th>\n",
              "      <td>string[python]</td>\n",
              "    </tr>\n",
              "    <tr>\n",
              "      <th>country</th>\n",
              "      <td>string[python]</td>\n",
              "    </tr>\n",
              "    <tr>\n",
              "      <th>market_segment</th>\n",
              "      <td>string[python]</td>\n",
              "    </tr>\n",
              "    <tr>\n",
              "      <th>distribution_channel</th>\n",
              "      <td>string[python]</td>\n",
              "    </tr>\n",
              "    <tr>\n",
              "      <th>is_repeated_guest</th>\n",
              "      <td>boolean</td>\n",
              "    </tr>\n",
              "    <tr>\n",
              "      <th>previous_cancellations</th>\n",
              "      <td>Int64</td>\n",
              "    </tr>\n",
              "    <tr>\n",
              "      <th>previous_bookings_not_canceled</th>\n",
              "      <td>Int64</td>\n",
              "    </tr>\n",
              "    <tr>\n",
              "      <th>reserved_room_type</th>\n",
              "      <td>string[python]</td>\n",
              "    </tr>\n",
              "    <tr>\n",
              "      <th>assigned_room_type</th>\n",
              "      <td>string[python]</td>\n",
              "    </tr>\n",
              "    <tr>\n",
              "      <th>booking_changes</th>\n",
              "      <td>Int64</td>\n",
              "    </tr>\n",
              "    <tr>\n",
              "      <th>deposit_type</th>\n",
              "      <td>string[python]</td>\n",
              "    </tr>\n",
              "    <tr>\n",
              "      <th>agent</th>\n",
              "      <td>Int64</td>\n",
              "    </tr>\n",
              "    <tr>\n",
              "      <th>company</th>\n",
              "      <td>Int64</td>\n",
              "    </tr>\n",
              "    <tr>\n",
              "      <th>days_in_waiting_list</th>\n",
              "      <td>Int64</td>\n",
              "    </tr>\n",
              "    <tr>\n",
              "      <th>customer_type</th>\n",
              "      <td>string[python]</td>\n",
              "    </tr>\n",
              "    <tr>\n",
              "      <th>adr</th>\n",
              "      <td>float64</td>\n",
              "    </tr>\n",
              "    <tr>\n",
              "      <th>required_car_parking_spaces</th>\n",
              "      <td>Int64</td>\n",
              "    </tr>\n",
              "    <tr>\n",
              "      <th>total_of_special_requests</th>\n",
              "      <td>Int64</td>\n",
              "    </tr>\n",
              "    <tr>\n",
              "      <th>reservation_status</th>\n",
              "      <td>string[python]</td>\n",
              "    </tr>\n",
              "    <tr>\n",
              "      <th>reservation_status_date</th>\n",
              "      <td>datetime64[ns]</td>\n",
              "    </tr>\n",
              "    <tr>\n",
              "      <th>kids</th>\n",
              "      <td>float64</td>\n",
              "    </tr>\n",
              "  </tbody>\n",
              "</table>\n",
              "</div><br><label><b>dtype:</b> object</label>"
            ]
          },
          "metadata": {},
          "execution_count": 82
        }
      ],
      "source": [
        "# Showing column types\n",
        "hotel_df.dtypes"
      ]
    },
    {
      "cell_type": "code",
      "execution_count": null,
      "id": "bd41edc2-6d04-4d10-a77d-2ed0f962b657",
      "metadata": {
        "id": "bd41edc2-6d04-4d10-a77d-2ed0f962b657"
      },
      "outputs": [],
      "source": [
        "hotel_df.sample(10) # Showing a sample of 10 rows"
      ]
    },
    {
      "cell_type": "markdown",
      "id": "8a48a9a6-7266-472f-be40-c820e199a029",
      "metadata": {
        "id": "8a48a9a6-7266-472f-be40-c820e199a029"
      },
      "source": [
        "### 1.1. Análisis univariado"
      ]
    },
    {
      "cell_type": "code",
      "source": [
        "def univariate_summary(df, column):\n",
        "    \"\"\"Generate comprehensive univariate summary for a column\"\"\"\n",
        "    print(f\"\\n{'='*50}\")\n",
        "    print(f\"UNIVARIATE ANALYSIS: {column}\")\n",
        "    print(f\"{'='*50}\")\n",
        "\n",
        "    # Basic info\n",
        "    print(f\"Data type: {df[column].dtype}\")\n",
        "    print(f\"Total values: {len(df[column])}\")\n",
        "    print(f\"Missing values: {df[column].isnull().sum()} ({df[column].isnull().mean()*100:.2f}%)\")\n",
        "    print(f\"Unique values: {df[column].nunique()}\")\n",
        "\n",
        "    if df[column].dtype in ['Int64', 'float']:\n",
        "        # Numerical analysis\n",
        "        print(f\"\\n--- Numerical Statistics ---\")\n",
        "        print(df[column].describe())\n",
        "        print(f\"Skewness: {df[column].skew():.3f}\")\n",
        "        print(f\"Kurtosis: {df[column].kurtosis():.3f}\")\n",
        "\n",
        "    elif df[column].dtype == 'object' or df[column].nunique() < 15:\n",
        "        # Categorical analysis\n",
        "        print(f\"\\n--- Frequency Distribution ---\")\n",
        "        print(df[column].value_counts())\n",
        "        print(f\"\\n--- Percentage Distribution ---\")\n",
        "        print(df[column].value_counts(normalize=True) * 100)\n",
        "\n",
        "# Example usage\n",
        "univariate_summary(hotel_df, 'hotel')\n",
        "univariate_summary(hotel_df, 'customer_type')\n",
        "univariate_summary(hotel_df, 'distribution_channel')\n",
        "univariate_summary(hotel_df, 'assigned_room_type')\n",
        "univariate_summary(hotel_df, 'arrival_date_month')\n",
        "univariate_summary(hotel_df, 'is_canceled')\n"
      ],
      "metadata": {
        "id": "3qb9-AzgFkLB"
      },
      "id": "3qb9-AzgFkLB",
      "execution_count": null,
      "outputs": []
    },
    {
      "cell_type": "code",
      "source": [
        "# Plotting bar charts for arrival_date_month and is_canceled and distribution_channel\n",
        "fig, (ax1, ax2, ax3) = plt.subplots(nrows=1, ncols=3, sharey=True, figsize=(20, 5))\n",
        "hotel_df[\"arrival_date_month\"].value_counts().plot(kind=\"bar\", ax=ax1, color=\"orange\")\n",
        "hotel_df[\"is_canceled\"].value_counts().sort_index(ascending=False).plot(kind=\"bar\", ax=ax2, color=\"green\")\n",
        "hotel_df[\"distribution_channel\"].value_counts().plot(kind=\"bar\", ax=ax3, color=\"steelblue\")\n",
        "ax1.set_title(\"arrival_date_month\")\n",
        "ax2.set_title(\"is_canceled\")\n",
        "ax3.set_title(\"distribution_channel\")\n",
        "plt.tight_layout()\n",
        "plt.show()"
      ],
      "metadata": {
        "id": "6vSf_9skIoX2"
      },
      "id": "6vSf_9skIoX2",
      "execution_count": null,
      "outputs": []
    },
    {
      "cell_type": "code",
      "execution_count": null,
      "id": "ce4dd2d6-eda2-4c26-89d2-bba762a5c7be",
      "metadata": {
        "id": "ce4dd2d6-eda2-4c26-89d2-bba762a5c7be"
      },
      "outputs": [],
      "source": [
        "# Armando un boxplot para distribución por número de adultos\n",
        "plt.figure(figsize=(20, 5))\n",
        "plt.boxplot(hotel_df[\"adults\"], showmeans=True, vert=False)\n",
        "plt.title(\"Distribución por número de adultos\")\n",
        "plt.show()"
      ]
    },
    {
      "cell_type": "markdown",
      "id": "0fd7cbf9-44ba-49e6-9166-9de23e45ec2a",
      "metadata": {
        "id": "0fd7cbf9-44ba-49e6-9166-9de23e45ec2a"
      },
      "source": [
        "### 2. Estrategia de Análisis"
      ]
    },
    {
      "cell_type": "code",
      "execution_count": null,
      "id": "012035ff-0256-4309-a356-0b30f48a3f83",
      "metadata": {
        "id": "012035ff-0256-4309-a356-0b30f48a3f83"
      },
      "outputs": [],
      "source": [
        "# Plotting correlation heatmap sobre grupo huéspedes\n",
        "sns.heatmap(\n",
        "    hotel_df[[\"adults\", \"children\", \"babies\", \"is_canceled\",\"adr\"]].corr(),\n",
        "    vmin=0.5, vmax=1,\n",
        "    cmap=\"Blues\"\n",
        ")\n",
        "plt.title(\"Correlación sobre grupo de huéspedes\")\n",
        "plt.show()"
      ]
    },
    {
      "cell_type": "code",
      "execution_count": null,
      "id": "450329bb-2b75-4f34-b704-637a632fba27",
      "metadata": {
        "id": "450329bb-2b75-4f34-b704-637a632fba27"
      },
      "outputs": [],
      "source": []
    }
  ],
  "metadata": {
    "kernelspec": {
      "display_name": "Python 3 (ipykernel)",
      "language": "python",
      "name": "python3"
    },
    "language_info": {
      "codemirror_mode": {
        "name": "ipython",
        "version": 3
      },
      "file_extension": ".py",
      "mimetype": "text/x-python",
      "name": "python",
      "nbconvert_exporter": "python",
      "pygments_lexer": "ipython3",
      "version": "3.11.7"
    },
    "colab": {
      "provenance": []
    }
  },
  "nbformat": 4,
  "nbformat_minor": 5
}